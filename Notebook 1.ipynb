{
  "cells": [
    {
      "cell_type": "code",
      "source": [
        "1 "
      ],
      "outputs": [
        {
          "output_type": "display_data",
          "data": {
            "application/vnd.livy.statement-meta+json": {
              "spark_pool": "demo1",
              "statement_id": 2,
              "statement_ids": [
                2
              ],
              "state": "finished",
              "livy_statement_state": "available",
              "spark_jobs": null,
              "session_id": "3",
              "normalized_state": "finished",
              "queued_time": "2025-08-26T07:31:06.9167645Z",
              "session_start_time": "2025-08-26T07:31:06.9184079Z",
              "execution_start_time": "2025-08-26T07:39:07.156289Z",
              "execution_finish_time": "2025-08-26T07:39:07.4273089Z",
              "parent_msg_id": "150cbed0-bf70-4a11-95db-9f4d205cfc01"
            },
            "text/plain": "StatementMeta(demo1, 3, 2, Finished, Available, Finished)"
          },
          "metadata": {}
        },
        {
          "output_type": "execute_result",
          "execution_count": 5,
          "data": {
            "text/plain": "1"
          },
          "metadata": {}
        }
      ],
      "execution_count": 3,
      "metadata": {}
    },
    {
      "cell_type": "code",
      "source": [
        "df_raw = spark.read.parquet(\"abfss://silver@augsa01.dfs.core.windows.net/awskaizen02/datasetfiles/refs/heads/main\")\n",
        "df_raw.show()"
      ],
      "outputs": [
        {
          "output_type": "display_data",
          "data": {
            "application/vnd.livy.statement-meta+json": {
              "spark_pool": "demo1",
              "statement_id": 13,
              "statement_ids": [
                13
              ],
              "state": "finished",
              "livy_statement_state": "available",
              "spark_jobs": null,
              "session_id": "3",
              "normalized_state": "finished",
              "queued_time": "2025-08-26T07:58:19.9079319Z",
              "session_start_time": null,
              "execution_start_time": "2025-08-26T07:58:19.9098506Z",
              "execution_finish_time": "2025-08-26T07:58:21.1231107Z",
              "parent_msg_id": "0cd6d711-179a-4492-860e-d28226265e9d"
            },
            "text/plain": "StatementMeta(demo1, 3, 13, Finished, Available, Finished)"
          },
          "metadata": {}
        },
        {
          "output_type": "stream",
          "name": "stdout",
          "text": [
            "+--------+----------+-----------+--------------------+--------------+----------+----------------+-------+---------+---------+\n|event_id|event_type|customer_id|     event_timestamp|payment_method|product_id|product_category| amount| location|   status|\n+--------+----------+-----------+--------------------+--------------+----------+----------------+-------+---------+---------+\n|   E1000|    cancel|        C11|2024-05-04T15:00:00Z|   Credit Card|     P1016|     Electronics|    0.0|Bangalore|Cancelled|\n|   E1001|    cancel|         C1|2024-05-20T17:00:00Z|   Credit Card|     P1018|       Groceries|    0.0|  Kolkata|Cancelled|\n|   E1002|    cancel|        C10|2024-05-24T20:00:00Z|          Cash|     P1002|     Electronics|    0.0|   Mumbai|Cancelled|\n|   E1003|    refund|        C15|2024-05-23T02:00:00Z|   Credit Card|     P1019|     Electronics|-139.21|  Chennai| Refunded|\n|   E1004|    refund|        C14|2024-05-28T00:00:00Z|           UPI|     P1018|     Electronics| -397.0|  Kolkata| Refunded|\n|   E1005|  purchase|        C16|2024-05-27T07:00:00Z|          Cash|     P1003|     Electronics| 249.18|  Kolkata|Completed|\n|   E1006|    refund|        C18|2024-05-04T16:00:00Z|           UPI|     P1016|           Books|-464.49|   Mumbai| Refunded|\n|   E1007|  purchase|           |2024-05-28T00:00:00Z|   Net Banking|     P1003|      Home Decor| 379.66|   Mumbai|Completed|\n|   E1008|    refund|        C18|2024-05-16T13:00:00Z|   Credit Card|     P1007|        Clothing|-496.75|    Delhi| Refunded|\n|   E1009|    cancel|         C1|2024-05-25T10:00:00Z|   Credit Card|     P1012|        Clothing|    0.0|  Kolkata|Cancelled|\n|   E1010|    cancel|        C18|2024-05-15T03:00:00Z|   Credit Card|     P1014|      Home Decor|    0.0|    Delhi|Cancelled|\n|   E1011|  purchase|        C14|2024-05-24T02:00:00Z|    Debit Card|     P1002|        Clothing| 162.41|  Kolkata|Completed|\n|   E1012|    refund|        C18|2024-05-06T01:00:00Z|    Debit Card|     P1003|      Home Decor|-160.99|Bangalore| Refunded|\n|   E1013|    refund|        C12|2024-05-24T11:00:00Z|    Debit Card|     P1010|       Groceries|-242.54|  Chennai| Refunded|\n|   E1014|    cancel|         C9|2024-05-14T14:00:00Z|   Credit Card|     P1019|        Clothing|    0.0|   Mumbai|Cancelled|\n|   E1015|    refund|         C6|2024-05-31T05:00:00Z|          Cash|     P1002|        Clothing|-354.21|  Kolkata| Refunded|\n|   E1016|  purchase|         C6|2024-05-21T15:00:00Z|   Net Banking|     P1007|      Home Decor| 164.06|Bangalore|Completed|\n|   E1017|    cancel|        C10|2024-05-07T13:00:00Z|    Debit Card|     P1003|      Home Decor|    0.0|Bangalore|Cancelled|\n|   E1018|    cancel|         C8|2024-05-06T23:00:00Z|          Cash|     P1005|        Clothing|    0.0|    Delhi|Cancelled|\n|   E1019|    refund|        C17|2024-05-14T00:00:00Z|   Net Banking|     P1002|           Books| -73.87|    Delhi| Refunded|\n+--------+----------+-----------+--------------------+--------------+----------+----------------+-------+---------+---------+\nonly showing top 20 rows\n\n"
          ]
        }
      ],
      "execution_count": 14,
      "metadata": {}
    },
    {
      "cell_type": "code",
      "source": [
        "from pyspark.sql.functions import *\n",
        "\n",
        "df_silver1 = (\n",
        "   df_raw\n",
        "\n",
        "    .filter(col(\"event_type\") == \"purchase\")\n",
        "   \n",
        "    .dropna(subset=[\"customer_id\",\"amount\"])\n",
        "   \n",
        "    .withColumn(\"event_date\", to_date(col(\"event_timestamp\")))\n",
        "   \n",
        "    .withColumn(\"payment_method\", lower(col(\"payment_method\")))\n",
        "   \n",
        "    .withColumn(\"amount\",col(\"amount\").cast(\"float\"))\n",
        "   \n",
        "    .select(\n",
        "        \"event_id\",\"customer_id\",\"event_date\",\"product_id\",\n",
        "        \"product_category\",\"payment_method\",\"amount\",\"location\"\n",
        "        )\n",
        "  \n",
        "  )\n",
        "  "
      ],
      "outputs": [
        {
          "output_type": "display_data",
          "data": {
            "application/vnd.livy.statement-meta+json": {
              "spark_pool": "demo1",
              "statement_id": 15,
              "statement_ids": [
                15
              ],
              "state": "finished",
              "livy_statement_state": "available",
              "spark_jobs": null,
              "session_id": "3",
              "normalized_state": "finished",
              "queued_time": "2025-08-26T07:59:52.9362501Z",
              "session_start_time": null,
              "execution_start_time": "2025-08-26T07:59:52.938189Z",
              "execution_finish_time": "2025-08-26T07:59:53.2095249Z",
              "parent_msg_id": "aed8d445-4242-4a80-a3fe-274f2fdea338"
            },
            "text/plain": "StatementMeta(demo1, 3, 15, Finished, Available, Finished)"
          },
          "metadata": {}
        }
      ],
      "execution_count": 16,
      "metadata": {}
    },
    {
      "cell_type": "code",
      "source": [
        "df_silver1.write.mode(\"overwrite\").parquet(\"abfss://silver1@augsa01.dfs.core.windows.net/processed/\")"
      ],
      "outputs": [
        {
          "output_type": "display_data",
          "data": {
            "application/vnd.livy.statement-meta+json": {
              "spark_pool": "demo1",
              "statement_id": 16,
              "statement_ids": [
                16
              ],
              "state": "finished",
              "livy_statement_state": "available",
              "spark_jobs": null,
              "session_id": "3",
              "normalized_state": "finished",
              "queued_time": "2025-08-26T08:00:00.5189844Z",
              "session_start_time": null,
              "execution_start_time": "2025-08-26T08:00:00.520625Z",
              "execution_finish_time": "2025-08-26T08:00:06.0498637Z",
              "parent_msg_id": "4fb182ed-59ed-4a4b-959d-e2e187638f5b"
            },
            "text/plain": "StatementMeta(demo1, 3, 16, Finished, Available, Finished)"
          },
          "metadata": {}
        }
      ],
      "execution_count": 17,
      "metadata": {}
    },
    {
      "cell_type": "code",
      "source": [
        "from pyspark.sql.functions import *\n",
        "\n",
        "df_silver1 = spark.read.parquet(\"abfss://silver1@augsa01.dfs.core.windows.net/processed/\")\n",
        "df_silver1.show()"
      ],
      "outputs": [
        {
          "output_type": "display_data",
          "data": {
            "application/vnd.livy.statement-meta+json": {
              "spark_pool": "demo1",
              "statement_id": 17,
              "statement_ids": [
                17
              ],
              "state": "finished",
              "livy_statement_state": "available",
              "spark_jobs": null,
              "session_id": "3",
              "normalized_state": "finished",
              "queued_time": "2025-08-26T08:01:51.3288068Z",
              "session_start_time": null,
              "execution_start_time": "2025-08-26T08:01:51.3306796Z",
              "execution_finish_time": "2025-08-26T08:01:52.5490084Z",
              "parent_msg_id": "b9255296-7298-4f66-bc1a-413efb5006df"
            },
            "text/plain": "StatementMeta(demo1, 3, 17, Finished, Available, Finished)"
          },
          "metadata": {}
        },
        {
          "output_type": "stream",
          "name": "stdout",
          "text": [
            "+--------+-----------+----------+----------+----------------+--------------+------+---------+\n|event_id|customer_id|event_date|product_id|product_category|payment_method|amount| location|\n+--------+-----------+----------+----------+----------------+--------------+------+---------+\n|   E1005|        C16|2024-05-27|     P1003|     Electronics|          cash|249.18|  Kolkata|\n|   E1007|           |2024-05-28|     P1003|      Home Decor|   net banking|379.66|   Mumbai|\n|   E1011|        C14|2024-05-24|     P1002|        Clothing|    debit card|162.41|  Kolkata|\n|   E1016|         C6|2024-05-21|     P1007|      Home Decor|   net banking|164.06|Bangalore|\n|   E1020|        C18|2024-05-06|     P1006|     Electronics|          cash|213.54|  Chennai|\n|   E1021|         C9|2024-05-23|     P1017|           Books|   net banking|311.96|  Kolkata|\n|   E1023|         C3|2024-05-25|     P1007|      Home Decor|          cash|130.08|    Delhi|\n|   E1026|         C7|2024-05-24|     P1010|       Groceries|           upi|243.01|  Kolkata|\n|   E1034|        C13|2024-05-21|     P1006|       Groceries|   net banking|405.46|  Chennai|\n|   E1040|         C8|2024-05-31|     P1016|           Books|          cash|480.96|Bangalore|\n|   E1047|         C2|2024-05-23|     P1020|       Groceries|   credit card| 116.0|Bangalore|\n|   E1049|        C16|2024-05-10|     P1019|       Groceries|   credit card|450.56|  Kolkata|\n|   E1050|        C12|2024-05-24|     P1003|     Electronics|   credit card|110.07|  Chennai|\n|   E1053|        C10|2024-05-17|     P1009|        Clothing|    debit card|350.22|    Delhi|\n|   E1055|         C6|2024-05-18|     P1002|       Groceries|   credit card|272.01|    Delhi|\n|   E1056|         C3|2024-05-24|     P1009|       Groceries|    debit card|292.75|  Kolkata|\n|   E1057|           |2024-05-17|     P1006|     Electronics|    debit card|209.07|  Kolkata|\n|   E1058|           |2024-05-29|     P1002|      Home Decor|   net banking|473.89|Bangalore|\n|   E1059|        C14|2024-05-16|     P1018|       Groceries|          cash|166.18|  Chennai|\n|   E1060|         C6|2024-05-07|     P1008|     Electronics|           upi|358.15|  Kolkata|\n+--------+-----------+----------+----------+----------------+--------------+------+---------+\nonly showing top 20 rows\n\n"
          ]
        }
      ],
      "execution_count": 18,
      "metadata": {}
    },
    {
      "cell_type": "code",
      "source": [
        "# Aggregate 1: Daily revenue and purchase Count\n",
        "\n",
        "df_daily_revenue = (\n",
        "    df_silver1\n",
        "    .groupBy(\"event_date\")\n",
        "    .agg(\n",
        "        sum(\"amount\").alias(\"daily_revenue\"),\n",
        "        count(\"*\").alias(\"total_purchases\")\n",
        "    )\n",
        ")\n",
        "\n",
        "# Aggerate 2: Top Product Categories by sales\n",
        "\n",
        "df_top_categories = (\n",
        "    df_silver1\n",
        "    .groupBy(\"product_category\")\n",
        "    .agg(\n",
        "        sum(\"amount\").alias(\"Total_sales\")\n",
        "    )\n",
        "    .orderBy(col(\"Total_sales\").desc())\n",
        ")\n",
        "\n",
        "df_daily_revenue.write.mode(\"overwrite\").parquet(\"abfss://gold@augsa01.dfs.core.windows.net/daily_revenue/\")\n",
        "df_top_categories.write.mode(\"overwrite\").parquet(\"abfss://gold@augsa01.dfs.core.windows.net/top_categories/\")"
      ],
      "outputs": [
        {
          "output_type": "display_data",
          "data": {
            "application/vnd.livy.statement-meta+json": {
              "spark_pool": "demo1",
              "statement_id": 20,
              "statement_ids": [
                20
              ],
              "state": "finished",
              "livy_statement_state": "available",
              "spark_jobs": null,
              "session_id": "3",
              "normalized_state": "finished",
              "queued_time": "2025-08-26T08:14:19.2325534Z",
              "session_start_time": null,
              "execution_start_time": "2025-08-26T08:14:19.2343442Z",
              "execution_finish_time": "2025-08-26T08:14:26.3817857Z",
              "parent_msg_id": "bb6da536-ff1e-4380-9381-463c459e63e8"
            },
            "text/plain": "StatementMeta(demo1, 3, 20, Finished, Available, Finished)"
          },
          "metadata": {}
        }
      ],
      "execution_count": 21,
      "metadata": {}
    },
    {
      "cell_type": "code",
      "source": [
        "df_daily_revenue= spark.read.parquet(\"abfss://gold@augsa01.dfs.core.windows.net/daily_revenue/\")\n",
        "df_daily_revenue.show()"
      ],
      "outputs": [
        {
          "output_type": "display_data",
          "data": {
            "application/vnd.livy.statement-meta+json": {
              "spark_pool": "demo1",
              "statement_id": 22,
              "statement_ids": [
                22
              ],
              "state": "finished",
              "livy_statement_state": "available",
              "spark_jobs": null,
              "session_id": "3",
              "normalized_state": "finished",
              "queued_time": "2025-08-26T08:15:53.1669216Z",
              "session_start_time": null,
              "execution_start_time": "2025-08-26T08:15:53.1688183Z",
              "execution_finish_time": "2025-08-26T08:15:58.7424014Z",
              "parent_msg_id": "bb7ee3eb-f9fc-41fc-8867-1aa13cace7b3"
            },
            "text/plain": "StatementMeta(demo1, 3, 22, Finished, Available, Finished)"
          },
          "metadata": {}
        },
        {
          "output_type": "stream",
          "name": "stdout",
          "text": [
            "+----------+------------------+---------------+\n|event_date|     daily_revenue|total_purchases|\n+----------+------------------+---------------+\n|2024-05-30|            242.75|              1|\n|2024-05-25| 130.0800018310547|              1|\n|2024-05-19| 450.4300079345703|              2|\n|2024-05-05|197.07000732421875|              1|\n|2024-05-29| 779.0400085449219|              2|\n|2024-05-23| 427.9599914550781|              2|\n|2024-05-21|1066.2099914550781|              3|\n|2024-05-15| 391.1600036621094|              1|\n|2024-05-10| 811.1199951171875|              2|\n|2024-05-09| 412.4599914550781|              1|\n|2024-05-31| 480.9599914550781|              1|\n|2024-05-16| 1078.739990234375|              4|\n|2024-05-20| 298.6199951171875|              1|\n|2024-05-26| 740.5499954223633|              3|\n|2024-05-17| 559.2900085449219|              2|\n|2024-05-24| 808.2399978637695|              4|\n|2024-05-04|  320.260009765625|              1|\n|2024-05-27| 322.5899963378906|              2|\n|2024-05-28| 379.6600036621094|              1|\n|2024-05-03| 497.8800048828125|              1|\n+----------+------------------+---------------+\nonly showing top 20 rows\n\n"
          ]
        }
      ],
      "execution_count": 23,
      "metadata": {}
    },
    {
      "cell_type": "code",
      "source": [
        "df_top_categories = spark.read.parquet(\"abfss://gold@augsa01.dfs.core.windows.net/top_categories/\")\n",
        "df_top_categories.show()"
      ],
      "outputs": [
        {
          "output_type": "display_data",
          "data": {
            "application/vnd.livy.statement-meta+json": {
              "spark_pool": "demo1",
              "statement_id": 24,
              "statement_ids": [
                24
              ],
              "state": "finished",
              "livy_statement_state": "available",
              "spark_jobs": null,
              "session_id": "3",
              "normalized_state": "finished",
              "queued_time": "2025-08-26T08:17:18.7154098Z",
              "session_start_time": null,
              "execution_start_time": "2025-08-26T08:17:18.7172174Z",
              "execution_finish_time": "2025-08-26T08:17:19.9381512Z",
              "parent_msg_id": "09af5f56-bce6-4665-8cc5-b5b6cb743753"
            },
            "text/plain": "StatementMeta(demo1, 3, 24, Finished, Available, Finished)"
          },
          "metadata": {}
        },
        {
          "output_type": "stream",
          "name": "stdout",
          "text": [
            "+----------------+------------------+\n|product_category|       Total_sales|\n+----------------+------------------+\n|     Electronics|3116.0300064086914|\n|       Groceries| 3107.269989013672|\n|           Books|2129.0799865722656|\n|      Home Decor|1949.0900192260742|\n|        Clothing|1617.3899841308594|\n+----------------+------------------+\n\n"
          ]
        }
      ],
      "execution_count": 25,
      "metadata": {}
    },
    {
      "cell_type": "markdown",
      "source": [],
      "metadata": {
        "nteract": {
          "transient": {
            "deleting": false
          }
        }
      }
    }
  ],
  "metadata": {
    "language_info": {
      "name": "python"
    },
    "kernelspec": {
      "name": "synapse_pyspark",
      "language": "Python",
      "display_name": "Synapse PySpark"
    },
    "kernel_info": {
      "name": "synapse_pyspark"
    },
    "save_output": true,
    "synapse_widget": {
      "version": "0.1",
      "state": {}
    }
  },
  "nbformat": 4,
  "nbformat_minor": 2
}